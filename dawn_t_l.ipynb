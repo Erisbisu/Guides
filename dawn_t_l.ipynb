{
  "nbformat": 4,
  "nbformat_minor": 0,
  "metadata": {
    "colab": {
      "provenance": [],
      "toc_visible": true,
      "authorship_tag": "ABX9TyPKMggdISDB3huhJIsVdfGW",
      "include_colab_link": true
    },
    "kernelspec": {
      "name": "python3",
      "display_name": "Python 3"
    },
    "language_info": {
      "name": "python"
    }
  },
  "cells": [
    {
      "cell_type": "markdown",
      "metadata": {
        "id": "view-in-github",
        "colab_type": "text"
      },
      "source": [
        "<a href=\"https://colab.research.google.com/github/Erisbisu/Guides/blob/main/dawn_t_l.ipynb\" target=\"_parent\"><img src=\"https://colab.research.google.com/assets/colab-badge.svg\" alt=\"Open In Colab\"/></a>"
      ]
    },
    {
      "cell_type": "markdown",
      "source": [
        "#Weapon Selection\n",
        "\n",
        "##What build should I use to play T&L with Running Dawn?\n",
        "Short answer: **play what is fun** for you!\n",
        "\n",
        "Running Dawn maintains the philosophy that individuals can build how they choose to fulfill certain roles. We fill out comps based on *roles*, not builds. Most of our players have fun by filling a role on a team.\n",
        "\n",
        "##What roles are Dawn looking for?\n",
        "Dawn is a PvX focused game, all roles\n",
        "- Healer\n",
        "- Tank\n",
        "- Assasin\n",
        "- rDPS\n"
      ],
      "metadata": {
        "id": "lLStOqLjXBOH"
      }
    }
  ]
}